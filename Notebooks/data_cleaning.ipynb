{
 "cells": [
  {
   "cell_type": "markdown",
   "metadata": {},
   "source": [
    "### **Load dataset and clean it"
   ]
  },
  {
   "cell_type": "code",
   "execution_count": 1,
   "metadata": {},
   "outputs": [
    {
     "name": "stderr",
     "output_type": "stream",
     "text": [
      "/tmp/ipykernel_1562/2135099897.py:5: DtypeWarning: Columns (9,16,20,21,22,24,25,26,27,28,29,30,31,32,45,46,59,60,73,74,87,88,90,91,92,95,96,97,98,99,100,101,102) have mixed types. Specify dtype option on import or set low_memory=False.\n",
      "  df = pd.read_csv('/workspaces/Cricket_website_ML_project/data/cricket_data.csv')\n"
     ]
    }
   ],
   "source": [
    "import pandas as pd\n",
    "import numpy as np\n",
    "\n",
    "# Load both datasets\n",
    "df = pd.read_csv('/workspaces/Cricket_website_ML_project/data/cricket_data.csv')\n",
    "\n",
    "def restructure_data(df):\n",
    "    # Initialize new dataframe with basic info\n",
    "    players = df[['ID', 'NAME', 'COUNTRY', 'Full name', 'Born', 'Died', \n",
    "                 'Current age', 'Major teams', 'Playing role', 'Batting style', \n",
    "                 'Bowling style']].copy()\n",
    "    \n",
    "    # Add gender identification (we'll implement this next)\n",
    "    players['gender'] = None\n",
    "    \n",
    "    # Define cricket formats\n",
    "    formats = ['Tests', 'ODIs', 'T20Is', 'First-class', 'List A', 'T20s']\n",
    "    \n",
    "    # Create nested batting and bowling stats\n",
    "    for fmt in formats:\n",
    "        # Batting stats\n",
    "        bat_cols = [f'BATTING_{fmt}_{stat}' for stat in \n",
    "                   ['Mat', 'Inns', 'NO', 'Runs', 'HS', 'Ave', 'BF', 'SR',\n",
    "                    '100', '50', '4s', '6s', 'Ct', 'St']]\n",
    "        \n",
    "        # Bowling stats\n",
    "        bowl_cols = [f'BOWLING_{fmt}_{stat}' for stat in \n",
    "                    ['Mat', 'Inns', 'Balls', 'Runs', 'Wkts', 'BBI', 'BBM',\n",
    "                     'Ave', 'Econ', 'SR', '4w', '5w', '10']]\n",
    "        \n",
    "        # Create nested dictionaries\n",
    "        players[f'{fmt.lower()}_batting'] = df[bat_cols].to_dict('records')\n",
    "        players[f'{fmt.lower()}_bowling'] = df[bowl_cols].to_dict('records')\n",
    "    \n",
    "    return players\n",
    "\n",
    "restructured_df = restructure_data(df)"
   ]
  },
  {
   "cell_type": "markdown",
   "metadata": {},
   "source": [
    "### **Gender Indentification**"
   ]
  },
  {
   "cell_type": "code",
   "execution_count": 5,
   "metadata": {},
   "outputs": [],
   "source": [
    "def identify_gender(df):\n",
    "    # Initialize gender column\n",
    "    df['gender'] = 'male'  # Default assumption\n",
    "    \n",
    "    # Rule 1: Check if \"women\" appears in team names\n",
    "    women_teams = df['Major teams'].str.contains('women|Women', case=False, na=False)\n",
    "    \n",
    "    # Rule 2: Check for female pronouns in description (if column exists)\n",
    "    female_pronouns = pd.Series(False, index=df.index)\n",
    "    if 'DESCRIPTION' in df.columns:\n",
    "        female_pronouns = df['DESCRIPTION'].str.contains('she|her', case=False, na=False)\n",
    "    \n",
    "    # Rule 3: Known female name patterns\n",
    "    female_names = df['NAME'].str.contains(\n",
    "        r'\\b(Sharmin|Mithali|Smriti|Meg|Ellyse|Sophie|Harmanpreet|Jemimah|Deepti|Poonam|Rajeshwari)\\b', \n",
    "        case=False, na=False\n",
    "    )\n",
    "    \n",
    "    # Apply rules - any positive indicates female player\n",
    "    df.loc[women_teams | female_pronouns | female_names, 'gender'] = 'female'\n",
    "    \n",
    "    return df"
   ]
  },
  {
   "cell_type": "markdown",
   "metadata": {},
   "source": [
    "### **Cricket Features**"
   ]
  },
  {
   "cell_type": "code",
   "execution_count": 6,
   "metadata": {},
   "outputs": [],
   "source": [
    "def add_cricket_metrics(df):\n",
    "    # Calculate overall batting/bowling metrics\n",
    "    formats = ['tests', 'odis', 't20is']\n",
    "    \n",
    "    for fmt in formats:\n",
    "        # Batting strike rate impact\n",
    "        df[f'{fmt}_batting_impact'] = df[f'{fmt}_batting'].apply(\n",
    "            lambda x: x.get('SR', 0) * x.get('Ave', 0) if isinstance(x, dict) else 0)\n",
    "        \n",
    "        # Bowling economy impact\n",
    "        df[f'{fmt}_bowling_impact'] = df[f'{fmt}_bowling'].apply(\n",
    "            lambda x: (100 - x.get('Econ', 100)) * x.get('Wkts', 0) if isinstance(x, dict) else 0)\n",
    "    \n",
    "    # Identify all-rounders (significant batting and bowling)\n",
    "    df['is_allrounder'] = False\n",
    "    for fmt in formats:\n",
    "        bat_cond = df[f'{fmt}_batting'].apply(\n",
    "            lambda x: x.get('Mat', 0) > 20 and x.get('Ave', 0) > 25 if isinstance(x, dict) else False)\n",
    "        bowl_cond = df[f'{fmt}_bowling'].apply(\n",
    "            lambda x: x.get('Mat', 0) > 20 and x.get('Ave', 0) < 35 if isinstance(x, dict) else False)\n",
    "        df.loc[bat_cond & bowl_cond, 'is_allrounder'] = True\n",
    "    \n",
    "    # Era classification\n",
    "    df['era'] = pd.cut(\n",
    "        pd.to_numeric(df['Born'].str.extract(r'(\\d{4})')[0]),\n",
    "        bins=[1800, 1920, 1970, 1990, 2010, 2025],\n",
    "        labels=['Pre-WWII', 'Golden Age', 'Modern', 'Contemporary', 'Current']\n",
    "    )\n",
    "    \n",
    "    return df\n",
    "\n",
    "restructured_df = add_cricket_metrics(restructured_df)"
   ]
  },
  {
   "cell_type": "code",
   "execution_count": 8,
   "metadata": {},
   "outputs": [],
   "source": [
    "# Save to JSON for nested structure\n",
    "restructured_df.to_json('/workspaces/Cricket_website_ML_project/data/structured_cricket_data.json', orient='records', indent=2)\n",
    "\n",
    "# Save to CSV (flattened version)\n",
    "flattened = pd.json_normalize(restructured_df.to_dict('records'))\n",
    "flattened.to_csv('/workspaces/Cricket_website_ML_project/data/flattened_cricket_data.csv', index=False)"
   ]
  }
 ],
 "metadata": {
  "kernelspec": {
   "display_name": "Python 3",
   "language": "python",
   "name": "python3"
  },
  "language_info": {
   "codemirror_mode": {
    "name": "ipython",
    "version": 3
   },
   "file_extension": ".py",
   "mimetype": "text/x-python",
   "name": "python",
   "nbconvert_exporter": "python",
   "pygments_lexer": "ipython3",
   "version": "3.12.1"
  }
 },
 "nbformat": 4,
 "nbformat_minor": 2
}
